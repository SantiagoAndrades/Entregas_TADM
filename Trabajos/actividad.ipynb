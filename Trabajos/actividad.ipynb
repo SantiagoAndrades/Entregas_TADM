{
 "cells": [
  {
   "cell_type": "markdown",
   "metadata": {},
   "source": [
    "# Actividad"
   ]
  },
  {
   "cell_type": "markdown",
   "metadata": {},
   "source": [
    "## A1. "
   ]
  },
  {
   "cell_type": "markdown",
   "metadata": {},
   "source": [
    "Sobre el fichero \"data/candidatos1.csv\":<br/>\n",
    "Calcula la ```notafinal``` de cada candidato. La nota final es una media ponderada de cinco examenes: \n",
    "```text\n",
    "   examen1*10% + examen2*30% + examen3*30% + examen4*20% + examen5*10%\n",
    "```\n",
    "Observaciones:\n",
    "- Si no tiene permiso de conducir: pierde 3 puntos de la nota final<br/>\n",
    "\n",
    "\n",
    "Ordena a los candidatos por la nota final y selecciona solo los 43 primeros. Guarda esta selección en un nuevo dataframe.\n"
   ]
  },
  {
   "cell_type": "code",
   "execution_count": 4,
   "metadata": {},
   "outputs": [],
   "source": [
    "import pandas as pd\n",
    "\n",
    "# Cargar el archivo CSV en un DataFrame\n",
    "df = pd.read_csv('/Users/santiagoandrade/OneDrive - Universitat de les Illes Balears/Tec_Analis_Datos/phyton/Proyectos/Actividad 1/data/candidatos1.csv')\n",
    "\n",
    "# Convertir todas las columnas de exámenes a numéricas, forzando errores a NaN\n",
    "for columna in ['examen1', 'examen2', 'examen3', 'examen4', 'examen5']:\n",
    "    df[columna] = pd.to_numeric(df[columna], errors='coerce')\n",
    "\n",
    "# Calcular la nota final para cada candidato\n",
    "# Promedio ponderado de cinco exámenes\n",
    "# Si no tiene licencia de conducir, restar 3 puntos\n",
    "\n",
    "df['notafinal'] = df['examen1']*0.1 + df['examen2']*0.3 + df['examen3']*0.3 + df['examen4']*0.2 + df['examen5']*0.1\n",
    "\n",
    "df.loc[df['carnet conducir'] != 'Sí', 'notafinal'] -= 3\n",
    "\n",
    "# Ordenar los candidatos por nota final y seleccionar a los mejores 43\n",
    "candidatos_seleccionados = df.sort_values(by='notafinal', ascending=False).head(43)\n"
   ]
  },
  {
   "cell_type": "markdown",
   "metadata": {},
   "source": [
    "## A2."
   ]
  },
  {
   "cell_type": "markdown",
   "metadata": {},
   "source": [
    "Por una reclamación, un número de candidatos ha repetido tres pruebas. El fichero \"data/candidatos2.csv\" contiene estos nuevos valores.<br/>\n",
    "¿Qué pasos realizarías para sustituir estas notas de estos candidatos en el fichero anterior?"
   ]
  },
  {
   "cell_type": "code",
   "execution_count": 13,
   "metadata": {},
   "outputs": [
    {
     "name": "stdout",
     "output_type": "stream",
     "text": [
      "Duplicados en df2:\n",
      "            DNI  examen1  examen3  examen5\n",
      "0     70943663W     0.00     7.18     3.64\n",
      "2     97609908R     8.69     8.73     0.00\n",
      "6     44695393E    10.00     6.72     1.10\n",
      "11    18465847K     6.83     8.17     6.66\n",
      "12     MD550775     4.84     6.82     5.44\n",
      "...         ...      ...      ...      ...\n",
      "3324  30140199X    10.00     4.78    10.00\n",
      "3325   LM524374     8.62     8.12     7.03\n",
      "3327  50622993Q    10.00     6.97     5.13\n",
      "3329   PV518995     0.49     8.04     3.25\n",
      "3331  75592820P     2.22     8.31     7.62\n",
      "\n",
      "[1359 rows x 4 columns]\n",
      "         DNI  Id. Empleat Tipus de sol�licitud    CP        Telefon  \\\n",
      "0   II257577      8070373   Certificat digital  7038  +34 098461235   \n",
      "1   HS660732      7386220           PreZëncial  7805  +34 399253088   \n",
      "2   WA908227      7334248           PreZëncial  7500  +34 665691484   \n",
      "3  50963304L      5531649   Certificat digital  7038  +34 934536489   \n",
      "4  68499030Q      4175935           PreZëncial  7950  +34 293929218   \n",
      "\n",
      "     DataNaix Sexe Email per notificacions  CP per notificacions  %Minus  ...  \\\n",
      "0  20/08/2000    M      dfztat@outlook.com                  7991     0.0  ...   \n",
      "1  24/10/1991    F      avnxqe@hotmail.com                  7792     0.0  ...   \n",
      "2  24/02/1974    M     rydxirj@example.com                  7803     0.0  ...   \n",
      "3  14/01/1999    F        vkfbbn@yahoo.com                  7603     0.0  ...   \n",
      "4  11/08/1994    M     fovigdyjj@yahoo.com                  7516     0.0  ...   \n",
      "\n",
      "   Comprobar amb pol. lingüística  proba física superada  carnet conducir  \\\n",
      "0                            True                   True               Sí   \n",
      "1                            True                   True               Sí   \n",
      "2                            True                   True               Sí   \n",
      "3                            True                   True               No   \n",
      "4                            True                   True               Sí   \n",
      "\n",
      "  examen1  examen2  examen3 examen4  examen5  Municipi  notafinal  \n",
      "0    6.35     4.78      NaN    7.05     3.68   Consell        NaN  \n",
      "1   10.00     7.48     5.71    9.05    10.00     Ibiza      7.767  \n",
      "2   10.00      NaN      NaN    2.96     5.12    Campos        NaN  \n",
      "3    8.10    10.00     4.89    8.09     0.00   Consell      3.895  \n",
      "4    6.34     8.67     4.76    6.11     6.05     Búger      6.490  \n",
      "\n",
      "[5 rows x 24 columns]\n"
     ]
    }
   ],
   "source": [
    "df2 = pd.read_csv('/Users/santiagoandrade/OneDrive - Universitat de les Illes Balears/Tec_Analis_Datos/phyton/Proyectos/Actividad 1/data/candidatos2.csv')\n",
    "df2.head\n",
    "\n",
    "# Renombrar la columna 'DNI i/o Passport' en df2 a 'DNI' para una fusión consistente\n",
    "df2.rename(columns={'DNI i/o Passport': 'DNI'}, inplace=True)\n",
    "\n",
    "# Verificar duplicados en df2\n",
    "duplicados_df2 = df2[df2.duplicated('DNI', keep=False)]\n",
    "print(\"Duplicados en df2:\")\n",
    "print(duplicados_df2)\n",
    "\n",
    "# Eliminar duplicados en df2 si es necesario\n",
    "df2 = df2.drop_duplicates('DNI')\n",
    "\n",
    "# Realizar la fusión, actualizando solo los puntajes de exámenes que están presentes en df2\n",
    "# Usamos un left join para asegurarnos de afectar solo las filas que tienen una coincidencia en df2\n",
    "df.update(df2.set_index('DNI'), overwrite=True)\n",
    "\n",
    "# Mostrar las primeras filas del dataframe actualizado para verificar los cambios\n",
    "print(df.head())"
   ]
  }
 ],
 "metadata": {
  "kernelspec": {
   "display_name": "Python 3",
   "language": "python",
   "name": "python3"
  },
  "language_info": {
   "codemirror_mode": {
    "name": "ipython",
    "version": 3
   },
   "file_extension": ".py",
   "mimetype": "text/x-python",
   "name": "python",
   "nbconvert_exporter": "python",
   "pygments_lexer": "ipython3",
   "version": "3.9.7"
  }
 },
 "nbformat": 4,
 "nbformat_minor": 2
}
